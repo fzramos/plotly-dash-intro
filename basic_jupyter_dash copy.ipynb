{
 "cells": [
  {
   "cell_type": "markdown",
   "source": [
    "# Plotly Dash with Jupyter Notebooks"
   ],
   "metadata": {}
  },
  {
   "cell_type": "markdown",
   "source": [
    "This is a basic example of creating a Dash Dashboard with Jupyter Notebooks\n",
    "\n",
    "Main difference between this an and a normal Dash (ie dash_basic.py) is additional import and the app declaration is different."
   ],
   "metadata": {}
  },
  {
   "cell_type": "markdown",
   "source": [
    "# Install required library"
   ],
   "metadata": {}
  },
  {
   "cell_type": "code",
   "execution_count": 7,
   "source": [
    "%%capture\r\n",
    "!pip install jupyter-dash"
   ],
   "outputs": [],
   "metadata": {}
  },
  {
   "cell_type": "markdown",
   "source": [
    "## Imports"
   ],
   "metadata": {}
  },
  {
   "cell_type": "code",
   "execution_count": 8,
   "source": [
    "import pandas as pd\r\n",
    "import dash\r\n",
    "import plotly.express as px\r\n",
    "import dash_html_components as html\r\n",
    "import dash_core_components as dcc\r\n",
    "# Key import for Jupyter Dash\r\n",
    "from jupyter_dash import JupyterDash"
   ],
   "outputs": [],
   "metadata": {}
  },
  {
   "cell_type": "markdown",
   "source": [
    "## Getting data"
   ],
   "metadata": {}
  },
  {
   "cell_type": "code",
   "execution_count": 9,
   "source": [
    "airline_data = pd.read_csv('https://cf-courses-data.s3.us.cloud-object-storage.appdomain.cloud/IBMDeveloperSkillsNetwork-DV0101EN-SkillsNetwork/Data%20Files/airline_data.csv',\r\n",
    "                            encoding = 'ISO-8859-1',\r\n",
    "                            dtype={'Div1Airport': str,\r\n",
    "                                    'Div1TailNum': str,\r\n",
    "                                    'Div2Airport': str,\r\n",
    "                                    'Div2TailNum': str})\r\n",
    "\r\n",
    "df = airline_data.sample(n=500, random_state=0)"
   ],
   "outputs": [],
   "metadata": {}
  },
  {
   "cell_type": "markdown",
   "source": [
    "## Creating charts for the dashboard"
   ],
   "metadata": {}
  },
  {
   "cell_type": "code",
   "execution_count": 10,
   "source": [
    "fig1 = px.pie(df, values='Flights', names='DistanceGroup', \r\n",
    "             title='Distance group proportion by flights')\r\n",
    "fig2 = px.bar(df, x='Flights', y='DistanceGroup', orientation='h',\r\n",
    "             title='Flights per Distance group')\r\n"
   ],
   "outputs": [],
   "metadata": {
    "tags": []
   }
  },
  {
   "cell_type": "code",
   "execution_count": 13,
   "source": [
    "def month_avg_delay_yr(yr):\r\n",
    "    df_yr = df[df['Year']==yr]\r\n",
    "    df_avg_delay_month = df_yr.groupby('Month')['DepDelay'].mean().reset_index()\r\n",
    "    df_avg_delay_month.columns\r\n",
    "    return px.line(df_avg_delay_month, x='Month', y='DepDelay')\r\n",
    "fig3 = month_avg_delay_yr(2014)"
   ],
   "outputs": [],
   "metadata": {}
  },
  {
   "cell_type": "markdown",
   "source": [
    "## OPTIONAL: If using a cloud service, you may have to run the following 2 cells"
   ],
   "metadata": {}
  },
  {
   "cell_type": "code",
   "execution_count": null,
   "source": [
    "JupyterDash.infer_jupyter_proxy_config()"
   ],
   "outputs": [],
   "metadata": {}
  },
  {
   "cell_type": "code",
   "execution_count": null,
   "source": [
    "# needs to be run again in a separate cell due to a jupyterdash bug\r\n",
    "JupyterDash.infer_jupyter_proxy_config()"
   ],
   "outputs": [],
   "metadata": {}
  },
  {
   "cell_type": "markdown",
   "source": [
    "## Setting up the layout for the dashboard"
   ],
   "metadata": {}
  },
  {
   "cell_type": "code",
   "execution_count": 14,
   "source": [
    "# Key difference for Jupyter Dash\r\n",
    "app = JupyterDash(__name__)\r\n",
    "\r\n",
    "app.layout = html.Div([html.H1('Jupyter Dashboard',\r\n",
    "                               style={'textAlign': 'center',\r\n",
    "                                        'color': '#503D36',\r\n",
    "                                         'font-size': 40}),\r\n",
    "                       html.P('Dashboard looking at U.S. flight statistics',\r\n",
    "                             style={'textAlign':'center',\r\n",
    "                                       'color': '#F57241'}),\r\n",
    "                       dcc.Graph(figure=fig1),\r\n",
    "                       dcc.Graph(figure=fig2),\r\n",
    "                       dcc.Graph(figure=fig3)\r\n",
    "                        \r\n",
    "                        ], style = {'background-color': 'white'})"
   ],
   "outputs": [],
   "metadata": {}
  },
  {
   "cell_type": "markdown",
   "source": [
    "## Displaying Dashboard"
   ],
   "metadata": {}
  },
  {
   "cell_type": "code",
   "execution_count": 15,
   "source": [
    "if __name__=='__main__':\r\n",
    "    app.run_server(mode=\"inline\", host='localhost')\r\n",
    "    # Note: Due to JupyterDash bug, you may have to run this cell twice for changes to take effect"
   ],
   "outputs": [
    {
     "output_type": "display_data",
     "data": {
      "text/plain": [
       "<IPython.lib.display.IFrame at 0x2434b591670>"
      ],
      "text/html": [
       "\n",
       "        <iframe\n",
       "            width=\"100%\"\n",
       "            height=\"650\"\n",
       "            src=\"http://localhost:8050/\"\n",
       "            frameborder=\"0\"\n",
       "            allowfullscreen\n",
       "        ></iframe>\n",
       "        "
      ]
     },
     "metadata": {}
    }
   ],
   "metadata": {}
  }
 ],
 "metadata": {
  "kernelspec": {
   "name": "python3",
   "display_name": "Python 3.8.5 64-bit ('base': conda)"
  },
  "language_info": {
   "codemirror_mode": {
    "name": "ipython",
    "version": 3
   },
   "file_extension": ".py",
   "mimetype": "text/x-python",
   "name": "python",
   "nbconvert_exporter": "python",
   "pygments_lexer": "ipython3",
   "version": "3.8.5"
  },
  "interpreter": {
   "hash": "b3ba2566441a7c06988d0923437866b63cedc61552a5af99d1f4fb67d367b25f"
  }
 },
 "nbformat": 4,
 "nbformat_minor": 5
}