{
 "cells": [
  {
   "cell_type": "markdown",
   "id": "6d463a84-95a8-4747-bc04-62d02acb7043",
   "metadata": {},
   "source": [
    "# Plotly Dash with Jupyter Notebooks"
   ]
  },
  {
   "cell_type": "markdown",
   "id": "e1a7d06f-1574-40bd-8457-e1364c734ce7",
   "metadata": {},
   "source": [
    "This is a basic example of creating a Dash Dashboard with Jupyter Notebooks\n",
    "\n",
    "Main difference between this an and a normal Dash (ie dash_basic.py) is additional import and the app declaration is different."
   ]
  },
  {
   "cell_type": "markdown",
   "id": "1b200d9a-e402-431f-aa63-3c00a22a12ac",
   "metadata": {},
   "source": [
    "# Install required library"
   ]
  },
  {
   "cell_type": "code",
   "execution_count": 1,
   "id": "c964fa11-d79e-4f99-8e99-fe31dc85394b",
   "metadata": {},
   "outputs": [],
   "source": [
    "%%capture\n",
    "!pip install jupyter-dash"
   ]
  },
  {
   "cell_type": "markdown",
   "id": "1de75126-3494-418f-a397-f9f05310c7c7",
   "metadata": {},
   "source": [
    "## Imports"
   ]
  },
  {
   "cell_type": "code",
   "execution_count": 2,
   "id": "6ef2f807-155a-4110-87b7-8489928c073c",
   "metadata": {},
   "outputs": [],
   "source": [
    "import pandas as pd\n",
    "import dash\n",
    "import plotly.express as px\n",
    "import dash_html_components as html\n",
    "import dash_core_components as dcc\n",
    "# Key import for Jupyter Dash\n",
    "from jupyter_dash import JupyterDash"
   ]
  },
  {
   "cell_type": "markdown",
   "id": "bc12682b-c943-42c5-8571-0cfec5527044",
   "metadata": {},
   "source": [
    "## Getting data"
   ]
  },
  {
   "cell_type": "code",
   "execution_count": 3,
   "id": "96c46439-0c9c-4be1-8354-3d4c4f71aca7",
   "metadata": {},
   "outputs": [],
   "source": [
    "airline_data = pd.read_csv('https://cf-courses-data.s3.us.cloud-object-storage.appdomain.cloud/IBMDeveloperSkillsNetwork-DV0101EN-SkillsNetwork/Data%20Files/airline_data.csv',\n",
    "                            encoding = 'ISO-8859-1',\n",
    "                            dtype={'Div1Airport': str,\n",
    "                                    'Div1TailNum': str,\n",
    "                                    'Div2Airport': str,\n",
    "                                    'Div2TailNum': str})\n",
    "\n",
    "df = airline_data.sample(n=500, random_state=0)"
   ]
  },
  {
   "cell_type": "markdown",
   "id": "da121ac8-00d2-48c9-b6bf-949aa621f594",
   "metadata": {},
   "source": [
    "## Creating charts for the dashboard"
   ]
  },
  {
   "cell_type": "code",
   "execution_count": 4,
   "id": "c3c5ed50-ecde-49ce-99d5-8df490d33961",
   "metadata": {
    "tags": []
   },
   "outputs": [],
   "source": [
    "fig1 = px.pie(df, values='Flights', names='DistanceGroup', \n",
    "             title='Distance group proportion by flights')\n",
    "fig2 = px.bar(df, x='Flights', y='DistanceGroup', orientation='h',\n",
    "             title='Flights per Distance group')\n"
   ]
  },
  {
   "cell_type": "markdown",
   "id": "0422129d-f515-4a21-b977-bfc113959926",
   "metadata": {},
   "source": [
    "## OPTIONAL: If using a cloud service, you may have to run the following 2 cells"
   ]
  },
  {
   "cell_type": "code",
   "execution_count": null,
   "id": "f649eb92-e0cb-4cc0-9380-654f66f8c177",
   "metadata": {},
   "outputs": [],
   "source": [
    "JupyterDash.infer_jupyter_proxy_config()"
   ]
  },
  {
   "cell_type": "code",
   "execution_count": null,
   "id": "5618e221-6ab2-402e-a66c-70d180227c6c",
   "metadata": {},
   "outputs": [],
   "source": [
    "# needs to be run again in a separate cell due to a jupyterdash bug\n",
    "JupyterDash.infer_jupyter_proxy_config()"
   ]
  },
  {
   "cell_type": "markdown",
   "id": "a2b0dde9-2531-4c14-b08e-0e8c250c9157",
   "metadata": {},
   "source": [
    "## Setting up the layout for the dashboard"
   ]
  },
  {
   "cell_type": "code",
   "execution_count": 5,
   "id": "de7b7b68-d98e-4468-a71a-225c439ae8a1",
   "metadata": {},
   "outputs": [],
   "source": [
    "# Key difference for Jupyter Dash\n",
    "app = JupyterDash(__name__)\n",
    "\n",
    "app.layout = html.Div([html.H1('Jupyter Dashboard',\n",
    "                               style={'textAlign': 'center',\n",
    "                                        'color': '#503D36',\n",
    "                                         'font-size': 40}),\n",
    "                       html.P('Dashboard looking at U.S. flight statistics',\n",
    "                             style={'textAlign':'center',\n",
    "                                       'color': '#F57241'}),\n",
    "                       dcc.Graph(figure=fig1),\n",
    "                       dcc.Graph(figure=fig2)\n",
    "                        \n",
    "                        ], style = {'background-color': 'white'})"
   ]
  },
  {
   "cell_type": "markdown",
   "id": "d45336c7-cc7a-4a67-a588-f910a92cf803",
   "metadata": {},
   "source": [
    "## Displaying Dashboard"
   ]
  },
  {
   "cell_type": "code",
   "execution_count": 6,
   "id": "27a07f8e-9789-4b1b-b4af-32d026179396",
   "metadata": {},
   "outputs": [
    {
     "data": {
      "text/html": [
       "\n",
       "        <iframe\n",
       "            width=\"100%\"\n",
       "            height=\"650\"\n",
       "            src=\"http://localhost:8050/\"\n",
       "            frameborder=\"0\"\n",
       "            allowfullscreen\n",
       "        ></iframe>\n",
       "        "
      ],
      "text/plain": [
       "<IPython.lib.display.IFrame at 0x11c60ccbbe0>"
      ]
     },
     "metadata": {},
     "output_type": "display_data"
    }
   ],
   "source": [
    "if __name__=='__main__':\n",
    "    app.run_server(mode=\"inline\", host='localhost')\n",
    "    # Note: Due to JupyterDash bug, you may have to run this cell twice for changes to take effect"
   ]
  }
 ],
 "metadata": {
  "kernelspec": {
   "display_name": "Python 3",
   "language": "python",
   "name": "python3"
  },
  "language_info": {
   "codemirror_mode": {
    "name": "ipython",
    "version": 3
   },
   "file_extension": ".py",
   "mimetype": "text/x-python",
   "name": "python",
   "nbconvert_exporter": "python",
   "pygments_lexer": "ipython3",
   "version": "3.8.5"
  }
 },
 "nbformat": 4,
 "nbformat_minor": 5
}
